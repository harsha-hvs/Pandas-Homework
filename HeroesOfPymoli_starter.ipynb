{
 "cells": [
  {
   "cell_type": "markdown",
   "metadata": {},
   "source": [
    "### Heroes Of Pymoli Data Analysis\n",
    "* Of the 1163 active players, the vast majority are male (84%). There also exists, a smaller, but notable proportion of female players (14%).\n",
    "\n",
    "* Our peak age demographic falls between 20-24 (44.8%) with secondary groups falling between 15-19 (18.60%) and 25-29 (13.4%).  \n",
    "-----"
   ]
  },
  {
   "cell_type": "markdown",
   "metadata": {},
   "source": [
    "### Note\n",
    "* Instructions have been included for each segment. You do not have to follow them exactly, but they are included to help you think through the steps."
   ]
  },
  {
   "cell_type": "code",
   "execution_count": 42,
   "metadata": {},
   "outputs": [
    {
     "data": {
      "text/html": [
       "<div>\n",
       "<style scoped>\n",
       "    .dataframe tbody tr th:only-of-type {\n",
       "        vertical-align: middle;\n",
       "    }\n",
       "\n",
       "    .dataframe tbody tr th {\n",
       "        vertical-align: top;\n",
       "    }\n",
       "\n",
       "    .dataframe thead th {\n",
       "        text-align: right;\n",
       "    }\n",
       "</style>\n",
       "<table border=\"1\" class=\"dataframe\">\n",
       "  <thead>\n",
       "    <tr style=\"text-align: right;\">\n",
       "      <th></th>\n",
       "      <th>Purchase ID</th>\n",
       "      <th>SN</th>\n",
       "      <th>Age</th>\n",
       "      <th>Gender</th>\n",
       "      <th>Item ID</th>\n",
       "      <th>Item Name</th>\n",
       "      <th>Price</th>\n",
       "    </tr>\n",
       "  </thead>\n",
       "  <tbody>\n",
       "    <tr>\n",
       "      <th>0</th>\n",
       "      <td>0</td>\n",
       "      <td>Lisim78</td>\n",
       "      <td>20</td>\n",
       "      <td>Male</td>\n",
       "      <td>108</td>\n",
       "      <td>Extraction, Quickblade Of Trembling Hands</td>\n",
       "      <td>3.53</td>\n",
       "    </tr>\n",
       "    <tr>\n",
       "      <th>1</th>\n",
       "      <td>1</td>\n",
       "      <td>Lisovynya38</td>\n",
       "      <td>40</td>\n",
       "      <td>Male</td>\n",
       "      <td>143</td>\n",
       "      <td>Frenzied Scimitar</td>\n",
       "      <td>1.56</td>\n",
       "    </tr>\n",
       "    <tr>\n",
       "      <th>2</th>\n",
       "      <td>2</td>\n",
       "      <td>Ithergue48</td>\n",
       "      <td>24</td>\n",
       "      <td>Male</td>\n",
       "      <td>92</td>\n",
       "      <td>Final Critic</td>\n",
       "      <td>4.88</td>\n",
       "    </tr>\n",
       "    <tr>\n",
       "      <th>3</th>\n",
       "      <td>3</td>\n",
       "      <td>Chamassasya86</td>\n",
       "      <td>24</td>\n",
       "      <td>Male</td>\n",
       "      <td>100</td>\n",
       "      <td>Blindscythe</td>\n",
       "      <td>3.27</td>\n",
       "    </tr>\n",
       "    <tr>\n",
       "      <th>4</th>\n",
       "      <td>4</td>\n",
       "      <td>Iskosia90</td>\n",
       "      <td>23</td>\n",
       "      <td>Male</td>\n",
       "      <td>131</td>\n",
       "      <td>Fury</td>\n",
       "      <td>1.44</td>\n",
       "    </tr>\n",
       "  </tbody>\n",
       "</table>\n",
       "</div>"
      ],
      "text/plain": [
       "   Purchase ID             SN  Age Gender  Item ID  \\\n",
       "0            0        Lisim78   20   Male      108   \n",
       "1            1    Lisovynya38   40   Male      143   \n",
       "2            2     Ithergue48   24   Male       92   \n",
       "3            3  Chamassasya86   24   Male      100   \n",
       "4            4      Iskosia90   23   Male      131   \n",
       "\n",
       "                                   Item Name  Price  \n",
       "0  Extraction, Quickblade Of Trembling Hands   3.53  \n",
       "1                          Frenzied Scimitar   1.56  \n",
       "2                               Final Critic   4.88  \n",
       "3                                Blindscythe   3.27  \n",
       "4                                       Fury   1.44  "
      ]
     },
     "execution_count": 42,
     "metadata": {},
     "output_type": "execute_result"
    }
   ],
   "source": [
    "# Dependencies and Setup\n",
    "import pandas as pd\n",
    "import numpy as np\n",
    "\n",
    "# File to Load (Remember to Change These)\n",
    "file_to_load = \"Resources/purchase_data.csv\"\n",
    "\n",
    "# Read Purchasing File and store into Pandas data frame\n",
    "purchase_data = pd.read_csv(file_to_load)\n",
    "\n",
    "purchase_data.head()"
   ]
  },
  {
   "cell_type": "markdown",
   "metadata": {},
   "source": [
    "## Player Count"
   ]
  },
  {
   "cell_type": "markdown",
   "metadata": {},
   "source": [
    "* Display the total number of players\n"
   ]
  },
  {
   "cell_type": "code",
   "execution_count": 43,
   "metadata": {},
   "outputs": [
    {
     "data": {
      "text/html": [
       "<div>\n",
       "<style scoped>\n",
       "    .dataframe tbody tr th:only-of-type {\n",
       "        vertical-align: middle;\n",
       "    }\n",
       "\n",
       "    .dataframe tbody tr th {\n",
       "        vertical-align: top;\n",
       "    }\n",
       "\n",
       "    .dataframe thead th {\n",
       "        text-align: right;\n",
       "    }\n",
       "</style>\n",
       "<table border=\"1\" class=\"dataframe\">\n",
       "  <thead>\n",
       "    <tr style=\"text-align: right;\">\n",
       "      <th></th>\n",
       "      <th>Total Players</th>\n",
       "    </tr>\n",
       "  </thead>\n",
       "  <tbody>\n",
       "    <tr>\n",
       "      <th>0</th>\n",
       "      <td>576</td>\n",
       "    </tr>\n",
       "  </tbody>\n",
       "</table>\n",
       "</div>"
      ],
      "text/plain": [
       "   Total Players\n",
       "0            576"
      ]
     },
     "execution_count": 43,
     "metadata": {},
     "output_type": "execute_result"
    }
   ],
   "source": [
    "# Get the total number of players using the len function and storing it in a dataframe\n",
    "total_players = pd.DataFrame(data = [len(purchase_data['SN'].unique())] , columns = [\"Total Players\"])\n",
    "\n",
    "#Display\n",
    "total_players"
   ]
  },
  {
   "cell_type": "markdown",
   "metadata": {},
   "source": [
    "## Purchasing Analysis (Total)"
   ]
  },
  {
   "cell_type": "markdown",
   "metadata": {},
   "source": [
    "* Run basic calculations to obtain number of unique items, average price, etc.\n",
    "\n",
    "\n",
    "* Create a summary data frame to hold the results\n",
    "\n",
    "\n",
    "* Optional: give the displayed data cleaner formatting\n",
    "\n",
    "\n",
    "* Display the summary data frame\n"
   ]
  },
  {
   "cell_type": "code",
   "execution_count": 44,
   "metadata": {},
   "outputs": [
    {
     "data": {
      "text/html": [
       "<style  type=\"text/css\" >\n",
       "</style><table id=\"T_baba05c6_b195_11e9_8a4c_9cb6d088aad8\" ><thead>    <tr>        <th class=\"blank level0\" ></th>        <th class=\"col_heading level0 col0\" >Number of Unique Items</th>        <th class=\"col_heading level0 col1\" >Average Price</th>        <th class=\"col_heading level0 col2\" >Number of Purchases</th>        <th class=\"col_heading level0 col3\" >Total Revenue</th>    </tr></thead><tbody>\n",
       "                <tr>\n",
       "                        <th id=\"T_baba05c6_b195_11e9_8a4c_9cb6d088aad8level0_row0\" class=\"row_heading level0 row0\" >0</th>\n",
       "                        <td id=\"T_baba05c6_b195_11e9_8a4c_9cb6d088aad8row0_col0\" class=\"data row0 col0\" >183</td>\n",
       "                        <td id=\"T_baba05c6_b195_11e9_8a4c_9cb6d088aad8row0_col1\" class=\"data row0 col1\" >$3.05</td>\n",
       "                        <td id=\"T_baba05c6_b195_11e9_8a4c_9cb6d088aad8row0_col2\" class=\"data row0 col2\" >780</td>\n",
       "                        <td id=\"T_baba05c6_b195_11e9_8a4c_9cb6d088aad8row0_col3\" class=\"data row0 col3\" >$2,379.77</td>\n",
       "            </tr>\n",
       "    </tbody></table>"
      ],
      "text/plain": [
       "<pandas.io.formats.style.Styler at 0x1f258ca8f98>"
      ]
     },
     "execution_count": 44,
     "metadata": {},
     "output_type": "execute_result"
    }
   ],
   "source": [
    "# Calculate the purchase details\n",
    "unique_items = len(purchase_data.groupby(\"Item ID\"))\n",
    "\n",
    "average_price = purchase_data[\"Price\"].mean()\n",
    "\n",
    "purchase_count = len(purchase_data[\"Purchase ID\"])\n",
    "\n",
    "total_revenue = purchase_data[\"Price\"].sum()\n",
    "\n",
    "# Place the values in a dataframe\n",
    "purchase_analysis_df = pd.DataFrame({\"Number of Unique Items\" :[unique_items],\"Average Price\":[average_price],\\\n",
    "                                     \"Number of Purchases\":[purchase_count],\"Total Revenue\":[total_revenue]})\n",
    "\n",
    "# Format with the price and revenue values in currency format\n",
    "purchase_analysis_df.style.format({'Average Price':\"${:,.2f}\",'Total Revenue': '${:,.2f}'})"
   ]
  },
  {
   "cell_type": "markdown",
   "metadata": {},
   "source": [
    "## Gender Demographics"
   ]
  },
  {
   "cell_type": "markdown",
   "metadata": {},
   "source": [
    "* Percentage and Count of Male Players\n",
    "\n",
    "\n",
    "* Percentage and Count of Female Players\n",
    "\n",
    "\n",
    "* Percentage and Count of Other / Non-Disclosed\n",
    "\n",
    "\n"
   ]
  },
  {
   "cell_type": "code",
   "execution_count": 45,
   "metadata": {},
   "outputs": [
    {
     "data": {
      "text/html": [
       "<div>\n",
       "<style scoped>\n",
       "    .dataframe tbody tr th:only-of-type {\n",
       "        vertical-align: middle;\n",
       "    }\n",
       "\n",
       "    .dataframe tbody tr th {\n",
       "        vertical-align: top;\n",
       "    }\n",
       "\n",
       "    .dataframe thead th {\n",
       "        text-align: right;\n",
       "    }\n",
       "</style>\n",
       "<table border=\"1\" class=\"dataframe\">\n",
       "  <thead>\n",
       "    <tr style=\"text-align: right;\">\n",
       "      <th></th>\n",
       "      <th>Total Count</th>\n",
       "      <th>Percentage of Players</th>\n",
       "    </tr>\n",
       "    <tr>\n",
       "      <th>Gender</th>\n",
       "      <th></th>\n",
       "      <th></th>\n",
       "    </tr>\n",
       "  </thead>\n",
       "  <tbody>\n",
       "    <tr>\n",
       "      <th>Male</th>\n",
       "      <td>484</td>\n",
       "      <td>84.03</td>\n",
       "    </tr>\n",
       "    <tr>\n",
       "      <th>Female</th>\n",
       "      <td>81</td>\n",
       "      <td>14.06</td>\n",
       "    </tr>\n",
       "    <tr>\n",
       "      <th>Other / Non-Disclosed</th>\n",
       "      <td>11</td>\n",
       "      <td>1.91</td>\n",
       "    </tr>\n",
       "  </tbody>\n",
       "</table>\n",
       "</div>"
      ],
      "text/plain": [
       "                       Total Count  Percentage of Players\n",
       "Gender                                                   \n",
       "Male                           484                  84.03\n",
       "Female                          81                  14.06\n",
       "Other / Non-Disclosed           11                   1.91"
      ]
     },
     "execution_count": 45,
     "metadata": {},
     "output_type": "execute_result"
    }
   ],
   "source": [
    "# Get the unique players list by dropping duplicates\n",
    "unique_players_df = purchase_data.drop_duplicates(subset =\"SN\",keep='first')\n",
    "\n",
    "# Calculate the count and percentage\n",
    "gender_demographics = pd.DataFrame(unique_players_df.groupby(\"Gender\").size(), columns =[\"Total Count\"])\n",
    "\n",
    "# Format the percentage values as expected\n",
    "gender_demographics[\"Percentage of Players\"] = round((unique_players_df[\"Gender\"].value_counts()\\\n",
    "                                                      /unique_players_df[\"Gender\"].count())*100,2)\n",
    "\n",
    "# Sort Values by total count\n",
    "gender_demographics.sort_values(by=[\"Total Count\"], ascending=False)"
   ]
  },
  {
   "cell_type": "markdown",
   "metadata": {},
   "source": [
    "\n",
    "## Purchasing Analysis (Gender)"
   ]
  },
  {
   "cell_type": "markdown",
   "metadata": {},
   "source": [
    "* Run basic calculations to obtain purchase count, avg. purchase price, avg. purchase total per person etc. by gender\n",
    "\n",
    "\n",
    "\n",
    "\n",
    "* Create a summary data frame to hold the results\n",
    "\n",
    "\n",
    "* Optional: give the displayed data cleaner formatting\n",
    "\n",
    "\n",
    "* Display the summary data frame"
   ]
  },
  {
   "cell_type": "code",
   "execution_count": 46,
   "metadata": {},
   "outputs": [
    {
     "data": {
      "text/html": [
       "<style  type=\"text/css\" >\n",
       "</style><table id=\"T_c052382e_b195_11e9_a096_9cb6d088aad8\" ><thead>    <tr>        <th class=\"blank level0\" ></th>        <th class=\"col_heading level0 col0\" >Purchase Count</th>        <th class=\"col_heading level0 col1\" >Average Purchase Price</th>        <th class=\"col_heading level0 col2\" >Total Purchase Value</th>        <th class=\"col_heading level0 col3\" >Avg Total Purchase per Person</th>    </tr>    <tr>        <th class=\"index_name level0\" >Gender</th>        <th class=\"blank\" ></th>        <th class=\"blank\" ></th>        <th class=\"blank\" ></th>        <th class=\"blank\" ></th>    </tr></thead><tbody>\n",
       "                <tr>\n",
       "                        <th id=\"T_c052382e_b195_11e9_a096_9cb6d088aad8level0_row0\" class=\"row_heading level0 row0\" >Female</th>\n",
       "                        <td id=\"T_c052382e_b195_11e9_a096_9cb6d088aad8row0_col0\" class=\"data row0 col0\" >113</td>\n",
       "                        <td id=\"T_c052382e_b195_11e9_a096_9cb6d088aad8row0_col1\" class=\"data row0 col1\" >$3.20</td>\n",
       "                        <td id=\"T_c052382e_b195_11e9_a096_9cb6d088aad8row0_col2\" class=\"data row0 col2\" >$361.94</td>\n",
       "                        <td id=\"T_c052382e_b195_11e9_a096_9cb6d088aad8row0_col3\" class=\"data row0 col3\" >$4.47</td>\n",
       "            </tr>\n",
       "            <tr>\n",
       "                        <th id=\"T_c052382e_b195_11e9_a096_9cb6d088aad8level0_row1\" class=\"row_heading level0 row1\" >Male</th>\n",
       "                        <td id=\"T_c052382e_b195_11e9_a096_9cb6d088aad8row1_col0\" class=\"data row1 col0\" >652</td>\n",
       "                        <td id=\"T_c052382e_b195_11e9_a096_9cb6d088aad8row1_col1\" class=\"data row1 col1\" >$3.02</td>\n",
       "                        <td id=\"T_c052382e_b195_11e9_a096_9cb6d088aad8row1_col2\" class=\"data row1 col2\" >$1,967.64</td>\n",
       "                        <td id=\"T_c052382e_b195_11e9_a096_9cb6d088aad8row1_col3\" class=\"data row1 col3\" >$4.07</td>\n",
       "            </tr>\n",
       "            <tr>\n",
       "                        <th id=\"T_c052382e_b195_11e9_a096_9cb6d088aad8level0_row2\" class=\"row_heading level0 row2\" >Other / Non-Disclosed</th>\n",
       "                        <td id=\"T_c052382e_b195_11e9_a096_9cb6d088aad8row2_col0\" class=\"data row2 col0\" >15</td>\n",
       "                        <td id=\"T_c052382e_b195_11e9_a096_9cb6d088aad8row2_col1\" class=\"data row2 col1\" >$3.35</td>\n",
       "                        <td id=\"T_c052382e_b195_11e9_a096_9cb6d088aad8row2_col2\" class=\"data row2 col2\" >$50.19</td>\n",
       "                        <td id=\"T_c052382e_b195_11e9_a096_9cb6d088aad8row2_col3\" class=\"data row2 col3\" >$4.56</td>\n",
       "            </tr>\n",
       "    </tbody></table>"
      ],
      "text/plain": [
       "<pandas.io.formats.style.Styler at 0x1f2557e64e0>"
      ]
     },
     "execution_count": 46,
     "metadata": {},
     "output_type": "execute_result"
    }
   ],
   "source": [
    "# Group the dataframe by gender to get the statistics\n",
    "gender_info = purchase_data.groupby(\"Gender\")\n",
    "\n",
    "# Gender Stats\n",
    "purchase_count_gen = gender_info[\"Purchase ID\"].count()\n",
    "\n",
    "total_purchase_price = gender_info[\"Price\"].sum()\n",
    "\n",
    "avg_purchase_price = gender_info[\"Price\"].mean()\n",
    "\n",
    "# Get the unique player count grouped by gender\n",
    "unique_purchase_count = gender_info.nunique()[\"SN\"]\n",
    "\n",
    "# Calculate the average purchase per person\n",
    "avg_purchase_per_person = total_purchase_price/unique_purchase_count\n",
    "\n",
    "# Place the values in a dataframe\n",
    "gender_analysis_df = pd.DataFrame({\"Purchase Count\" :purchase_count_gen,\"Average Purchase Price\":avg_purchase_price,\\\n",
    "                                   \"Total Purchase Value\":total_purchase_price,\\\n",
    "                                   \"Avg Total Purchase per Person\":avg_purchase_per_person})\n",
    "# Set the index name\n",
    "gender_analysis_df.index.name = \"Gender\"\n",
    "\n",
    "# Set the format of all the float values in the dataframe to the currency format\n",
    "gender_analysis_df.style.format({\"Average Purchase Price\": '${:,.2f}', \"Total Purchase Value\": '${:,.2f}',\\\n",
    "                                 \"Avg Total Purchase per Person\": '${:,.2f}'})"
   ]
  },
  {
   "cell_type": "markdown",
   "metadata": {},
   "source": [
    "## Age Demographics"
   ]
  },
  {
   "cell_type": "markdown",
   "metadata": {},
   "source": [
    "* Establish bins for ages\n",
    "\n",
    "\n",
    "* Categorize the existing players using the age bins. Hint: use pd.cut()\n",
    "\n",
    "\n",
    "* Calculate the numbers and percentages by age group\n",
    "\n",
    "\n",
    "* Create a summary data frame to hold the results\n",
    "\n",
    "\n",
    "* Optional: round the percentage column to two decimal points\n",
    "\n",
    "\n",
    "* Display Age Demographics Table\n"
   ]
  },
  {
   "cell_type": "code",
   "execution_count": 47,
   "metadata": {},
   "outputs": [
    {
     "data": {
      "text/html": [
       "<style  type=\"text/css\" >\n",
       "</style><table id=\"T_c42a45b6_b195_11e9_8b24_9cb6d088aad8\" ><thead>    <tr>        <th class=\"blank level0\" ></th>        <th class=\"col_heading level0 col0\" >Total Count</th>        <th class=\"col_heading level0 col1\" >Percentage of Players</th>    </tr></thead><tbody>\n",
       "                <tr>\n",
       "                        <th id=\"T_c42a45b6_b195_11e9_8b24_9cb6d088aad8level0_row0\" class=\"row_heading level0 row0\" ><10</th>\n",
       "                        <td id=\"T_c42a45b6_b195_11e9_8b24_9cb6d088aad8row0_col0\" class=\"data row0 col0\" >17</td>\n",
       "                        <td id=\"T_c42a45b6_b195_11e9_8b24_9cb6d088aad8row0_col1\" class=\"data row0 col1\" >2.95</td>\n",
       "            </tr>\n",
       "            <tr>\n",
       "                        <th id=\"T_c42a45b6_b195_11e9_8b24_9cb6d088aad8level0_row1\" class=\"row_heading level0 row1\" >10-14</th>\n",
       "                        <td id=\"T_c42a45b6_b195_11e9_8b24_9cb6d088aad8row1_col0\" class=\"data row1 col0\" >22</td>\n",
       "                        <td id=\"T_c42a45b6_b195_11e9_8b24_9cb6d088aad8row1_col1\" class=\"data row1 col1\" >3.82</td>\n",
       "            </tr>\n",
       "            <tr>\n",
       "                        <th id=\"T_c42a45b6_b195_11e9_8b24_9cb6d088aad8level0_row2\" class=\"row_heading level0 row2\" >15-19</th>\n",
       "                        <td id=\"T_c42a45b6_b195_11e9_8b24_9cb6d088aad8row2_col0\" class=\"data row2 col0\" >107</td>\n",
       "                        <td id=\"T_c42a45b6_b195_11e9_8b24_9cb6d088aad8row2_col1\" class=\"data row2 col1\" >18.58</td>\n",
       "            </tr>\n",
       "            <tr>\n",
       "                        <th id=\"T_c42a45b6_b195_11e9_8b24_9cb6d088aad8level0_row3\" class=\"row_heading level0 row3\" >20-24</th>\n",
       "                        <td id=\"T_c42a45b6_b195_11e9_8b24_9cb6d088aad8row3_col0\" class=\"data row3 col0\" >258</td>\n",
       "                        <td id=\"T_c42a45b6_b195_11e9_8b24_9cb6d088aad8row3_col1\" class=\"data row3 col1\" >44.79</td>\n",
       "            </tr>\n",
       "            <tr>\n",
       "                        <th id=\"T_c42a45b6_b195_11e9_8b24_9cb6d088aad8level0_row4\" class=\"row_heading level0 row4\" >25-29</th>\n",
       "                        <td id=\"T_c42a45b6_b195_11e9_8b24_9cb6d088aad8row4_col0\" class=\"data row4 col0\" >77</td>\n",
       "                        <td id=\"T_c42a45b6_b195_11e9_8b24_9cb6d088aad8row4_col1\" class=\"data row4 col1\" >13.37</td>\n",
       "            </tr>\n",
       "            <tr>\n",
       "                        <th id=\"T_c42a45b6_b195_11e9_8b24_9cb6d088aad8level0_row5\" class=\"row_heading level0 row5\" >30-34</th>\n",
       "                        <td id=\"T_c42a45b6_b195_11e9_8b24_9cb6d088aad8row5_col0\" class=\"data row5 col0\" >52</td>\n",
       "                        <td id=\"T_c42a45b6_b195_11e9_8b24_9cb6d088aad8row5_col1\" class=\"data row5 col1\" >9.03</td>\n",
       "            </tr>\n",
       "            <tr>\n",
       "                        <th id=\"T_c42a45b6_b195_11e9_8b24_9cb6d088aad8level0_row6\" class=\"row_heading level0 row6\" >35-39</th>\n",
       "                        <td id=\"T_c42a45b6_b195_11e9_8b24_9cb6d088aad8row6_col0\" class=\"data row6 col0\" >31</td>\n",
       "                        <td id=\"T_c42a45b6_b195_11e9_8b24_9cb6d088aad8row6_col1\" class=\"data row6 col1\" >5.38</td>\n",
       "            </tr>\n",
       "            <tr>\n",
       "                        <th id=\"T_c42a45b6_b195_11e9_8b24_9cb6d088aad8level0_row7\" class=\"row_heading level0 row7\" >40+</th>\n",
       "                        <td id=\"T_c42a45b6_b195_11e9_8b24_9cb6d088aad8row7_col0\" class=\"data row7 col0\" >12</td>\n",
       "                        <td id=\"T_c42a45b6_b195_11e9_8b24_9cb6d088aad8row7_col1\" class=\"data row7 col1\" >2.08</td>\n",
       "            </tr>\n",
       "    </tbody></table>"
      ],
      "text/plain": [
       "<pandas.io.formats.style.Styler at 0x1f258cd3860>"
      ]
     },
     "execution_count": 47,
     "metadata": {},
     "output_type": "execute_result"
    }
   ],
   "source": [
    "# Establish bins for ages\n",
    "age_bins = [0, 9.9, 14.9, 19.9, 24.9, 29.9, 34.9, 39.9, 100]\n",
    "\n",
    "# Set the group names as labels\n",
    "group_names = [\"<10\", \"10-14\", \"15-19\", \"20-24\", \"25-29\", \"30-34\", \"35-39\", \"40+\"]\n",
    "\n",
    "# Cut the age values based on the groups created from the bins\n",
    "purchase_data[\"Age Group\"] = pd.cut(purchase_data[\"Age\"],age_bins, labels=group_names)\n",
    "\n",
    "# Create grouped by dataframe based on the Age Group\n",
    "age_grouped = purchase_data.groupby(\"Age Group\")\n",
    "\n",
    "# Total players by age group\n",
    "total_count_age = age_grouped[\"SN\"].nunique()\n",
    "\n",
    "# Unique count of players\n",
    "unique_count = len(purchase_data[\"SN\"].value_counts())\n",
    "\n",
    "# Calculate percentages by age group \n",
    "percentage_by_age = (total_count_age/unique_count) * 100\n",
    "\n",
    "# Create data frame with obtained values\n",
    "age_demographics = pd.DataFrame({\"Total Count\": total_count_age, \"Percentage of Players\": percentage_by_age})\n",
    "\n",
    "# Remove the index\n",
    "age_demographics.index.name = None\n",
    "\n",
    "# Set the format of the percentage value\n",
    "age_demographics.style.format({\"Percentage of Players\":\"{:,.2f}\"})"
   ]
  },
  {
   "cell_type": "markdown",
   "metadata": {},
   "source": [
    "## Purchasing Analysis (Age)"
   ]
  },
  {
   "cell_type": "markdown",
   "metadata": {},
   "source": [
    "* Bin the purchase_data data frame by age\n",
    "\n",
    "\n",
    "* Run basic calculations to obtain purchase count, avg. purchase price, avg. purchase total per person etc. in the table below\n",
    "\n",
    "\n",
    "* Create a summary data frame to hold the results\n",
    "\n",
    "\n",
    "* Optional: give the displayed data cleaner formatting\n",
    "\n",
    "\n",
    "* Display the summary data frame"
   ]
  },
  {
   "cell_type": "code",
   "execution_count": 48,
   "metadata": {},
   "outputs": [
    {
     "data": {
      "text/html": [
       "<style  type=\"text/css\" >\n",
       "</style><table id=\"T_cd76b09a_b195_11e9_882c_9cb6d088aad8\" ><thead>    <tr>        <th class=\"blank level0\" ></th>        <th class=\"col_heading level0 col0\" >Purchase Count</th>        <th class=\"col_heading level0 col1\" >Average Purchase Price</th>        <th class=\"col_heading level0 col2\" >Total Purchase Value</th>        <th class=\"col_heading level0 col3\" >Avg Total Purchase per Person</th>    </tr></thead><tbody>\n",
       "                <tr>\n",
       "                        <th id=\"T_cd76b09a_b195_11e9_882c_9cb6d088aad8level0_row0\" class=\"row_heading level0 row0\" ><10</th>\n",
       "                        <td id=\"T_cd76b09a_b195_11e9_882c_9cb6d088aad8row0_col0\" class=\"data row0 col0\" >23</td>\n",
       "                        <td id=\"T_cd76b09a_b195_11e9_882c_9cb6d088aad8row0_col1\" class=\"data row0 col1\" >$3.35</td>\n",
       "                        <td id=\"T_cd76b09a_b195_11e9_882c_9cb6d088aad8row0_col2\" class=\"data row0 col2\" >$77.13</td>\n",
       "                        <td id=\"T_cd76b09a_b195_11e9_882c_9cb6d088aad8row0_col3\" class=\"data row0 col3\" >$4.54</td>\n",
       "            </tr>\n",
       "            <tr>\n",
       "                        <th id=\"T_cd76b09a_b195_11e9_882c_9cb6d088aad8level0_row1\" class=\"row_heading level0 row1\" >10-14</th>\n",
       "                        <td id=\"T_cd76b09a_b195_11e9_882c_9cb6d088aad8row1_col0\" class=\"data row1 col0\" >28</td>\n",
       "                        <td id=\"T_cd76b09a_b195_11e9_882c_9cb6d088aad8row1_col1\" class=\"data row1 col1\" >$2.96</td>\n",
       "                        <td id=\"T_cd76b09a_b195_11e9_882c_9cb6d088aad8row1_col2\" class=\"data row1 col2\" >$82.78</td>\n",
       "                        <td id=\"T_cd76b09a_b195_11e9_882c_9cb6d088aad8row1_col3\" class=\"data row1 col3\" >$3.76</td>\n",
       "            </tr>\n",
       "            <tr>\n",
       "                        <th id=\"T_cd76b09a_b195_11e9_882c_9cb6d088aad8level0_row2\" class=\"row_heading level0 row2\" >15-19</th>\n",
       "                        <td id=\"T_cd76b09a_b195_11e9_882c_9cb6d088aad8row2_col0\" class=\"data row2 col0\" >136</td>\n",
       "                        <td id=\"T_cd76b09a_b195_11e9_882c_9cb6d088aad8row2_col1\" class=\"data row2 col1\" >$3.04</td>\n",
       "                        <td id=\"T_cd76b09a_b195_11e9_882c_9cb6d088aad8row2_col2\" class=\"data row2 col2\" >$412.89</td>\n",
       "                        <td id=\"T_cd76b09a_b195_11e9_882c_9cb6d088aad8row2_col3\" class=\"data row2 col3\" >$3.86</td>\n",
       "            </tr>\n",
       "            <tr>\n",
       "                        <th id=\"T_cd76b09a_b195_11e9_882c_9cb6d088aad8level0_row3\" class=\"row_heading level0 row3\" >20-24</th>\n",
       "                        <td id=\"T_cd76b09a_b195_11e9_882c_9cb6d088aad8row3_col0\" class=\"data row3 col0\" >365</td>\n",
       "                        <td id=\"T_cd76b09a_b195_11e9_882c_9cb6d088aad8row3_col1\" class=\"data row3 col1\" >$3.05</td>\n",
       "                        <td id=\"T_cd76b09a_b195_11e9_882c_9cb6d088aad8row3_col2\" class=\"data row3 col2\" >$1,114.06</td>\n",
       "                        <td id=\"T_cd76b09a_b195_11e9_882c_9cb6d088aad8row3_col3\" class=\"data row3 col3\" >$4.32</td>\n",
       "            </tr>\n",
       "            <tr>\n",
       "                        <th id=\"T_cd76b09a_b195_11e9_882c_9cb6d088aad8level0_row4\" class=\"row_heading level0 row4\" >25-29</th>\n",
       "                        <td id=\"T_cd76b09a_b195_11e9_882c_9cb6d088aad8row4_col0\" class=\"data row4 col0\" >101</td>\n",
       "                        <td id=\"T_cd76b09a_b195_11e9_882c_9cb6d088aad8row4_col1\" class=\"data row4 col1\" >$2.90</td>\n",
       "                        <td id=\"T_cd76b09a_b195_11e9_882c_9cb6d088aad8row4_col2\" class=\"data row4 col2\" >$293.00</td>\n",
       "                        <td id=\"T_cd76b09a_b195_11e9_882c_9cb6d088aad8row4_col3\" class=\"data row4 col3\" >$3.81</td>\n",
       "            </tr>\n",
       "            <tr>\n",
       "                        <th id=\"T_cd76b09a_b195_11e9_882c_9cb6d088aad8level0_row5\" class=\"row_heading level0 row5\" >30-34</th>\n",
       "                        <td id=\"T_cd76b09a_b195_11e9_882c_9cb6d088aad8row5_col0\" class=\"data row5 col0\" >73</td>\n",
       "                        <td id=\"T_cd76b09a_b195_11e9_882c_9cb6d088aad8row5_col1\" class=\"data row5 col1\" >$2.93</td>\n",
       "                        <td id=\"T_cd76b09a_b195_11e9_882c_9cb6d088aad8row5_col2\" class=\"data row5 col2\" >$214.00</td>\n",
       "                        <td id=\"T_cd76b09a_b195_11e9_882c_9cb6d088aad8row5_col3\" class=\"data row5 col3\" >$4.12</td>\n",
       "            </tr>\n",
       "            <tr>\n",
       "                        <th id=\"T_cd76b09a_b195_11e9_882c_9cb6d088aad8level0_row6\" class=\"row_heading level0 row6\" >35-39</th>\n",
       "                        <td id=\"T_cd76b09a_b195_11e9_882c_9cb6d088aad8row6_col0\" class=\"data row6 col0\" >41</td>\n",
       "                        <td id=\"T_cd76b09a_b195_11e9_882c_9cb6d088aad8row6_col1\" class=\"data row6 col1\" >$3.60</td>\n",
       "                        <td id=\"T_cd76b09a_b195_11e9_882c_9cb6d088aad8row6_col2\" class=\"data row6 col2\" >$147.67</td>\n",
       "                        <td id=\"T_cd76b09a_b195_11e9_882c_9cb6d088aad8row6_col3\" class=\"data row6 col3\" >$4.76</td>\n",
       "            </tr>\n",
       "            <tr>\n",
       "                        <th id=\"T_cd76b09a_b195_11e9_882c_9cb6d088aad8level0_row7\" class=\"row_heading level0 row7\" >40+</th>\n",
       "                        <td id=\"T_cd76b09a_b195_11e9_882c_9cb6d088aad8row7_col0\" class=\"data row7 col0\" >13</td>\n",
       "                        <td id=\"T_cd76b09a_b195_11e9_882c_9cb6d088aad8row7_col1\" class=\"data row7 col1\" >$2.94</td>\n",
       "                        <td id=\"T_cd76b09a_b195_11e9_882c_9cb6d088aad8row7_col2\" class=\"data row7 col2\" >$38.24</td>\n",
       "                        <td id=\"T_cd76b09a_b195_11e9_882c_9cb6d088aad8row7_col3\" class=\"data row7 col3\" >$3.19</td>\n",
       "            </tr>\n",
       "    </tbody></table>"
      ],
      "text/plain": [
       "<pandas.io.formats.style.Styler at 0x1f258b4e828>"
      ]
     },
     "execution_count": 48,
     "metadata": {},
     "output_type": "execute_result"
    }
   ],
   "source": [
    "# Purchasing Analysis\n",
    "\n",
    "# Get the counts and stats based on earlier age grouped dataframe\n",
    "purchase_count_age = age_grouped['Purchase ID'].count()\n",
    "\n",
    "total_purchase_price_age = age_grouped['Price'].sum()\n",
    "\n",
    "avg_purchase_price_age = total_purchase_price_age/purchase_count_age\n",
    "\n",
    "avg_total_purchase_price_age = total_purchase_price_age/age_grouped[\"SN\"].nunique()\n",
    "\n",
    "# Create data frame with obtained values\n",
    "age_purchases = pd.DataFrame({\"Purchase Count\": purchase_count_age, \"Average Purchase Price\": avg_purchase_price_age,\\\n",
    "                             \"Total Purchase Value\": total_purchase_price_age,\\\n",
    "                             \"Avg Total Purchase per Person\": avg_total_purchase_price_age})\n",
    "\n",
    "# Remove the index\n",
    "age_purchases.index.name = None\n",
    "\n",
    "# Set the format of all the float values in the dataframe to the currency format\n",
    "age_purchases.style.format({\"Average Purchase Price\": '${:,.2f}',\\\n",
    "                            \"Total Purchase Value\": '${:,.2f}',\\\n",
    "                            \"Avg Total Purchase per Person\": '${:,.2f}'})"
   ]
  },
  {
   "cell_type": "markdown",
   "metadata": {},
   "source": [
    "## Top Spenders"
   ]
  },
  {
   "cell_type": "markdown",
   "metadata": {},
   "source": [
    "* Run basic calculations to obtain the results in the table below\n",
    "\n",
    "\n",
    "* Create a summary data frame to hold the results\n",
    "\n",
    "\n",
    "* Sort the total purchase value column in descending order\n",
    "\n",
    "\n",
    "* Optional: give the displayed data cleaner formatting\n",
    "\n",
    "\n",
    "* Display a preview of the summary data frame\n",
    "\n"
   ]
  },
  {
   "cell_type": "code",
   "execution_count": 49,
   "metadata": {},
   "outputs": [
    {
     "data": {
      "text/html": [
       "<style  type=\"text/css\" >\n",
       "</style><table id=\"T_d0f6b3fa_b195_11e9_9a44_9cb6d088aad8\" ><thead>    <tr>        <th class=\"blank level0\" ></th>        <th class=\"col_heading level0 col0\" >Purchase Count</th>        <th class=\"col_heading level0 col1\" >Average Purchase Price</th>        <th class=\"col_heading level0 col2\" >Total Purchase Value</th>    </tr>    <tr>        <th class=\"index_name level0\" >SN</th>        <th class=\"blank\" ></th>        <th class=\"blank\" ></th>        <th class=\"blank\" ></th>    </tr></thead><tbody>\n",
       "                <tr>\n",
       "                        <th id=\"T_d0f6b3fa_b195_11e9_9a44_9cb6d088aad8level0_row0\" class=\"row_heading level0 row0\" >Lisosia93</th>\n",
       "                        <td id=\"T_d0f6b3fa_b195_11e9_9a44_9cb6d088aad8row0_col0\" class=\"data row0 col0\" >5</td>\n",
       "                        <td id=\"T_d0f6b3fa_b195_11e9_9a44_9cb6d088aad8row0_col1\" class=\"data row0 col1\" >$3.79</td>\n",
       "                        <td id=\"T_d0f6b3fa_b195_11e9_9a44_9cb6d088aad8row0_col2\" class=\"data row0 col2\" >$18.96</td>\n",
       "            </tr>\n",
       "            <tr>\n",
       "                        <th id=\"T_d0f6b3fa_b195_11e9_9a44_9cb6d088aad8level0_row1\" class=\"row_heading level0 row1\" >Idastidru52</th>\n",
       "                        <td id=\"T_d0f6b3fa_b195_11e9_9a44_9cb6d088aad8row1_col0\" class=\"data row1 col0\" >4</td>\n",
       "                        <td id=\"T_d0f6b3fa_b195_11e9_9a44_9cb6d088aad8row1_col1\" class=\"data row1 col1\" >$3.86</td>\n",
       "                        <td id=\"T_d0f6b3fa_b195_11e9_9a44_9cb6d088aad8row1_col2\" class=\"data row1 col2\" >$15.45</td>\n",
       "            </tr>\n",
       "            <tr>\n",
       "                        <th id=\"T_d0f6b3fa_b195_11e9_9a44_9cb6d088aad8level0_row2\" class=\"row_heading level0 row2\" >Chamjask73</th>\n",
       "                        <td id=\"T_d0f6b3fa_b195_11e9_9a44_9cb6d088aad8row2_col0\" class=\"data row2 col0\" >3</td>\n",
       "                        <td id=\"T_d0f6b3fa_b195_11e9_9a44_9cb6d088aad8row2_col1\" class=\"data row2 col1\" >$4.61</td>\n",
       "                        <td id=\"T_d0f6b3fa_b195_11e9_9a44_9cb6d088aad8row2_col2\" class=\"data row2 col2\" >$13.83</td>\n",
       "            </tr>\n",
       "            <tr>\n",
       "                        <th id=\"T_d0f6b3fa_b195_11e9_9a44_9cb6d088aad8level0_row3\" class=\"row_heading level0 row3\" >Iral74</th>\n",
       "                        <td id=\"T_d0f6b3fa_b195_11e9_9a44_9cb6d088aad8row3_col0\" class=\"data row3 col0\" >4</td>\n",
       "                        <td id=\"T_d0f6b3fa_b195_11e9_9a44_9cb6d088aad8row3_col1\" class=\"data row3 col1\" >$3.40</td>\n",
       "                        <td id=\"T_d0f6b3fa_b195_11e9_9a44_9cb6d088aad8row3_col2\" class=\"data row3 col2\" >$13.62</td>\n",
       "            </tr>\n",
       "            <tr>\n",
       "                        <th id=\"T_d0f6b3fa_b195_11e9_9a44_9cb6d088aad8level0_row4\" class=\"row_heading level0 row4\" >Iskadarya95</th>\n",
       "                        <td id=\"T_d0f6b3fa_b195_11e9_9a44_9cb6d088aad8row4_col0\" class=\"data row4 col0\" >3</td>\n",
       "                        <td id=\"T_d0f6b3fa_b195_11e9_9a44_9cb6d088aad8row4_col1\" class=\"data row4 col1\" >$4.37</td>\n",
       "                        <td id=\"T_d0f6b3fa_b195_11e9_9a44_9cb6d088aad8row4_col2\" class=\"data row4 col2\" >$13.10</td>\n",
       "            </tr>\n",
       "    </tbody></table>"
      ],
      "text/plain": [
       "<pandas.io.formats.style.Styler at 0x1f258bb9898>"
      ]
     },
     "execution_count": 49,
     "metadata": {},
     "output_type": "execute_result"
    }
   ],
   "source": [
    "# Top Spenders\n",
    "\n",
    "# Group by the subscriber name\n",
    "spender_grouped = purchase_data.groupby(\"SN\")\n",
    "\n",
    "# Calculations based on the grouped data\n",
    "spender_purchase_count = spender_grouped['Purchase ID'].count()\n",
    "\n",
    "total_spender_purchase_value = spender_grouped['Price'].sum()\n",
    "\n",
    "average_spender_purchase_price = total_spender_purchase_value/spender_purchase_count\n",
    "\n",
    "# Create data frame with obtained values\n",
    "spender_purchases = pd.DataFrame({\"Purchase Count\": spender_purchase_count,\\\n",
    "                                  \"Average Purchase Price\": average_spender_purchase_price,\\\n",
    "                                  \"Total Purchase Value\": total_spender_purchase_value})\n",
    "\n",
    "# Sort the dataframe based on the Top purchase value\n",
    "top_spender = spender_purchases.sort_values(by=\"Total Purchase Value\", ascending=False).head()\n",
    "\n",
    "# Format all the currency columns and display only preview data\n",
    "top_spender.style.format({\"Average Purchase Price\": '${:,.2f}',\"Total Purchase Value\": '${:,.2f}'})\n"
   ]
  },
  {
   "cell_type": "markdown",
   "metadata": {},
   "source": [
    "## Most Popular Items"
   ]
  },
  {
   "cell_type": "markdown",
   "metadata": {},
   "source": [
    "* Retrieve the Item ID, Item Name, and Item Price columns\n",
    "\n",
    "\n",
    "* Group by Item ID and Item Name. Perform calculations to obtain purchase count, item price, and total purchase value\n",
    "\n",
    "\n",
    "* Create a summary data frame to hold the results\n",
    "\n",
    "\n",
    "* Sort the purchase count column in descending order\n",
    "\n",
    "\n",
    "* Optional: give the displayed data cleaner formatting\n",
    "\n",
    "\n",
    "* Display a preview of the summary data frame\n",
    "\n"
   ]
  },
  {
   "cell_type": "code",
   "execution_count": 50,
   "metadata": {},
   "outputs": [
    {
     "data": {
      "text/html": [
       "<style  type=\"text/css\" >\n",
       "</style><table id=\"T_d6b7e2b4_b195_11e9_95cd_9cb6d088aad8\" ><thead>    <tr>        <th class=\"blank\" ></th>        <th class=\"blank level0\" ></th>        <th class=\"col_heading level0 col0\" >Purchase Count</th>        <th class=\"col_heading level0 col1\" >Item Price</th>        <th class=\"col_heading level0 col2\" >Total Purchase Value</th>    </tr>    <tr>        <th class=\"index_name level0\" >Item ID</th>        <th class=\"index_name level1\" >Item Name</th>        <th class=\"blank\" ></th>        <th class=\"blank\" ></th>        <th class=\"blank\" ></th>    </tr></thead><tbody>\n",
       "                <tr>\n",
       "                        <th id=\"T_d6b7e2b4_b195_11e9_95cd_9cb6d088aad8level0_row0\" class=\"row_heading level0 row0\" >178</th>\n",
       "                        <th id=\"T_d6b7e2b4_b195_11e9_95cd_9cb6d088aad8level1_row0\" class=\"row_heading level1 row0\" >Oathbreaker, Last Hope of the Breaking Storm</th>\n",
       "                        <td id=\"T_d6b7e2b4_b195_11e9_95cd_9cb6d088aad8row0_col0\" class=\"data row0 col0\" >12</td>\n",
       "                        <td id=\"T_d6b7e2b4_b195_11e9_95cd_9cb6d088aad8row0_col1\" class=\"data row0 col1\" >$4.23</td>\n",
       "                        <td id=\"T_d6b7e2b4_b195_11e9_95cd_9cb6d088aad8row0_col2\" class=\"data row0 col2\" >$50.76</td>\n",
       "            </tr>\n",
       "            <tr>\n",
       "                        <th id=\"T_d6b7e2b4_b195_11e9_95cd_9cb6d088aad8level0_row1\" class=\"row_heading level0 row1\" >145</th>\n",
       "                        <th id=\"T_d6b7e2b4_b195_11e9_95cd_9cb6d088aad8level1_row1\" class=\"row_heading level1 row1\" >Fiery Glass Crusader</th>\n",
       "                        <td id=\"T_d6b7e2b4_b195_11e9_95cd_9cb6d088aad8row1_col0\" class=\"data row1 col0\" >9</td>\n",
       "                        <td id=\"T_d6b7e2b4_b195_11e9_95cd_9cb6d088aad8row1_col1\" class=\"data row1 col1\" >$4.58</td>\n",
       "                        <td id=\"T_d6b7e2b4_b195_11e9_95cd_9cb6d088aad8row1_col2\" class=\"data row1 col2\" >$41.22</td>\n",
       "            </tr>\n",
       "            <tr>\n",
       "                        <th id=\"T_d6b7e2b4_b195_11e9_95cd_9cb6d088aad8level0_row2\" class=\"row_heading level0 row2\" >108</th>\n",
       "                        <th id=\"T_d6b7e2b4_b195_11e9_95cd_9cb6d088aad8level1_row2\" class=\"row_heading level1 row2\" >Extraction, Quickblade Of Trembling Hands</th>\n",
       "                        <td id=\"T_d6b7e2b4_b195_11e9_95cd_9cb6d088aad8row2_col0\" class=\"data row2 col0\" >9</td>\n",
       "                        <td id=\"T_d6b7e2b4_b195_11e9_95cd_9cb6d088aad8row2_col1\" class=\"data row2 col1\" >$3.53</td>\n",
       "                        <td id=\"T_d6b7e2b4_b195_11e9_95cd_9cb6d088aad8row2_col2\" class=\"data row2 col2\" >$31.77</td>\n",
       "            </tr>\n",
       "            <tr>\n",
       "                        <th id=\"T_d6b7e2b4_b195_11e9_95cd_9cb6d088aad8level0_row3\" class=\"row_heading level0 row3\" >82</th>\n",
       "                        <th id=\"T_d6b7e2b4_b195_11e9_95cd_9cb6d088aad8level1_row3\" class=\"row_heading level1 row3\" >Nirvana</th>\n",
       "                        <td id=\"T_d6b7e2b4_b195_11e9_95cd_9cb6d088aad8row3_col0\" class=\"data row3 col0\" >9</td>\n",
       "                        <td id=\"T_d6b7e2b4_b195_11e9_95cd_9cb6d088aad8row3_col1\" class=\"data row3 col1\" >$4.90</td>\n",
       "                        <td id=\"T_d6b7e2b4_b195_11e9_95cd_9cb6d088aad8row3_col2\" class=\"data row3 col2\" >$44.10</td>\n",
       "            </tr>\n",
       "            <tr>\n",
       "                        <th id=\"T_d6b7e2b4_b195_11e9_95cd_9cb6d088aad8level0_row4\" class=\"row_heading level0 row4\" >19</th>\n",
       "                        <th id=\"T_d6b7e2b4_b195_11e9_95cd_9cb6d088aad8level1_row4\" class=\"row_heading level1 row4\" >Pursuit, Cudgel of Necromancy</th>\n",
       "                        <td id=\"T_d6b7e2b4_b195_11e9_95cd_9cb6d088aad8row4_col0\" class=\"data row4 col0\" >8</td>\n",
       "                        <td id=\"T_d6b7e2b4_b195_11e9_95cd_9cb6d088aad8row4_col1\" class=\"data row4 col1\" >$1.02</td>\n",
       "                        <td id=\"T_d6b7e2b4_b195_11e9_95cd_9cb6d088aad8row4_col2\" class=\"data row4 col2\" >$8.16</td>\n",
       "            </tr>\n",
       "    </tbody></table>"
      ],
      "text/plain": [
       "<pandas.io.formats.style.Styler at 0x1f258c86eb8>"
      ]
     },
     "execution_count": 50,
     "metadata": {},
     "output_type": "execute_result"
    }
   ],
   "source": [
    "# Most Popular Items\n",
    "\n",
    "# Get only the item details and place it in a dataframe \n",
    "item_df = purchase_data[[\"Item ID\",\"Item Name\",\"Price\"]]\n",
    "\n",
    "# Group based on item ID and Item Name\n",
    "item_df_grouped = item_df.groupby(by = [\"Item ID\",\"Item Name\"])\n",
    "\n",
    "# Calculate the purchase details based on the items\n",
    "item_purchase_count = item_df_grouped[\"Item ID\"].count()\n",
    "\n",
    "item_total_purchase_value = item_df_grouped[\"Price\"].sum()\n",
    "\n",
    "item_price = item_total_purchase_value/item_purchase_count\n",
    "\n",
    "# Create data frame with obtained values\n",
    "popular_items = pd.DataFrame({\"Purchase Count\": item_purchase_count,\\\n",
    "                              \"Item Price\": item_price,\\\n",
    "                              \"Total Purchase Value\": item_total_purchase_value})\n",
    "\n",
    "# Sort the dataframe based on the purchase count\n",
    "top_popular_items = popular_items.sort_values(by=\"Purchase Count\", ascending=False).head()\n",
    "\n",
    "# Format all the currency columns and display only preview data\n",
    "top_popular_items.style.format({\"Item Price\": '${:,.2f}',\"Total Purchase Value\": '${:,.2f}'})"
   ]
  },
  {
   "cell_type": "markdown",
   "metadata": {},
   "source": [
    "## Most Profitable Items"
   ]
  },
  {
   "cell_type": "markdown",
   "metadata": {},
   "source": [
    "* Sort the above table by total purchase value in descending order\n",
    "\n",
    "\n",
    "* Optional: give the displayed data cleaner formatting\n",
    "\n",
    "\n",
    "* Display a preview of the data frame\n",
    "\n"
   ]
  },
  {
   "cell_type": "code",
   "execution_count": 51,
   "metadata": {
    "scrolled": true
   },
   "outputs": [
    {
     "data": {
      "text/html": [
       "<style  type=\"text/css\" >\n",
       "</style><table id=\"T_d86064b4_b195_11e9_9471_9cb6d088aad8\" ><thead>    <tr>        <th class=\"blank\" ></th>        <th class=\"blank level0\" ></th>        <th class=\"col_heading level0 col0\" >Purchase Count</th>        <th class=\"col_heading level0 col1\" >Item Price</th>        <th class=\"col_heading level0 col2\" >Total Purchase Value</th>    </tr>    <tr>        <th class=\"index_name level0\" >Item ID</th>        <th class=\"index_name level1\" >Item Name</th>        <th class=\"blank\" ></th>        <th class=\"blank\" ></th>        <th class=\"blank\" ></th>    </tr></thead><tbody>\n",
       "                <tr>\n",
       "                        <th id=\"T_d86064b4_b195_11e9_9471_9cb6d088aad8level0_row0\" class=\"row_heading level0 row0\" >178</th>\n",
       "                        <th id=\"T_d86064b4_b195_11e9_9471_9cb6d088aad8level1_row0\" class=\"row_heading level1 row0\" >Oathbreaker, Last Hope of the Breaking Storm</th>\n",
       "                        <td id=\"T_d86064b4_b195_11e9_9471_9cb6d088aad8row0_col0\" class=\"data row0 col0\" >12</td>\n",
       "                        <td id=\"T_d86064b4_b195_11e9_9471_9cb6d088aad8row0_col1\" class=\"data row0 col1\" >$4.23</td>\n",
       "                        <td id=\"T_d86064b4_b195_11e9_9471_9cb6d088aad8row0_col2\" class=\"data row0 col2\" >$50.76</td>\n",
       "            </tr>\n",
       "            <tr>\n",
       "                        <th id=\"T_d86064b4_b195_11e9_9471_9cb6d088aad8level0_row1\" class=\"row_heading level0 row1\" >82</th>\n",
       "                        <th id=\"T_d86064b4_b195_11e9_9471_9cb6d088aad8level1_row1\" class=\"row_heading level1 row1\" >Nirvana</th>\n",
       "                        <td id=\"T_d86064b4_b195_11e9_9471_9cb6d088aad8row1_col0\" class=\"data row1 col0\" >9</td>\n",
       "                        <td id=\"T_d86064b4_b195_11e9_9471_9cb6d088aad8row1_col1\" class=\"data row1 col1\" >$4.90</td>\n",
       "                        <td id=\"T_d86064b4_b195_11e9_9471_9cb6d088aad8row1_col2\" class=\"data row1 col2\" >$44.10</td>\n",
       "            </tr>\n",
       "            <tr>\n",
       "                        <th id=\"T_d86064b4_b195_11e9_9471_9cb6d088aad8level0_row2\" class=\"row_heading level0 row2\" >145</th>\n",
       "                        <th id=\"T_d86064b4_b195_11e9_9471_9cb6d088aad8level1_row2\" class=\"row_heading level1 row2\" >Fiery Glass Crusader</th>\n",
       "                        <td id=\"T_d86064b4_b195_11e9_9471_9cb6d088aad8row2_col0\" class=\"data row2 col0\" >9</td>\n",
       "                        <td id=\"T_d86064b4_b195_11e9_9471_9cb6d088aad8row2_col1\" class=\"data row2 col1\" >$4.58</td>\n",
       "                        <td id=\"T_d86064b4_b195_11e9_9471_9cb6d088aad8row2_col2\" class=\"data row2 col2\" >$41.22</td>\n",
       "            </tr>\n",
       "            <tr>\n",
       "                        <th id=\"T_d86064b4_b195_11e9_9471_9cb6d088aad8level0_row3\" class=\"row_heading level0 row3\" >92</th>\n",
       "                        <th id=\"T_d86064b4_b195_11e9_9471_9cb6d088aad8level1_row3\" class=\"row_heading level1 row3\" >Final Critic</th>\n",
       "                        <td id=\"T_d86064b4_b195_11e9_9471_9cb6d088aad8row3_col0\" class=\"data row3 col0\" >8</td>\n",
       "                        <td id=\"T_d86064b4_b195_11e9_9471_9cb6d088aad8row3_col1\" class=\"data row3 col1\" >$4.88</td>\n",
       "                        <td id=\"T_d86064b4_b195_11e9_9471_9cb6d088aad8row3_col2\" class=\"data row3 col2\" >$39.04</td>\n",
       "            </tr>\n",
       "            <tr>\n",
       "                        <th id=\"T_d86064b4_b195_11e9_9471_9cb6d088aad8level0_row4\" class=\"row_heading level0 row4\" >103</th>\n",
       "                        <th id=\"T_d86064b4_b195_11e9_9471_9cb6d088aad8level1_row4\" class=\"row_heading level1 row4\" >Singed Scalpel</th>\n",
       "                        <td id=\"T_d86064b4_b195_11e9_9471_9cb6d088aad8row4_col0\" class=\"data row4 col0\" >8</td>\n",
       "                        <td id=\"T_d86064b4_b195_11e9_9471_9cb6d088aad8row4_col1\" class=\"data row4 col1\" >$4.35</td>\n",
       "                        <td id=\"T_d86064b4_b195_11e9_9471_9cb6d088aad8row4_col2\" class=\"data row4 col2\" >$34.80</td>\n",
       "            </tr>\n",
       "    </tbody></table>"
      ],
      "text/plain": [
       "<pandas.io.formats.style.Styler at 0x1f258cb6e48>"
      ]
     },
     "execution_count": 51,
     "metadata": {},
     "output_type": "execute_result"
    }
   ],
   "source": [
    "# Most profitable items\n",
    "# Sort the dataframe based on the Top purchase value\n",
    "top_profitable_items = popular_items.sort_values(by=\"Total Purchase Value\", ascending=False).head()\n",
    "\n",
    "# Format all the currency columns and display only preview data\n",
    "top_profitable_items.style.format({\"Item Price\": '${:,.2f}',\"Total Purchase Value\": '${:,.2f}'})"
   ]
  }
 ],
 "metadata": {
  "anaconda-cloud": {},
  "kernel_info": {
   "name": "python3"
  },
  "kernelspec": {
   "display_name": "Python [conda env:PythonData] *",
   "language": "python",
   "name": "conda-env-PythonData-py"
  },
  "language_info": {
   "codemirror_mode": {
    "name": "ipython",
    "version": 3
   },
   "file_extension": ".py",
   "mimetype": "text/x-python",
   "name": "python",
   "nbconvert_exporter": "python",
   "pygments_lexer": "ipython3",
   "version": "3.6.8"
  },
  "nteract": {
   "version": "0.2.0"
  }
 },
 "nbformat": 4,
 "nbformat_minor": 2
}
